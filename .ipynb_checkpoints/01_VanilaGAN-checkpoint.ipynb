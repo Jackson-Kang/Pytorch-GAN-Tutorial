{
 "cells": [
  {
   "cell_type": "markdown",
   "metadata": {},
   "source": [
    "# Implementation of Generative Adversarial Network (GAN)\n",
    " \n",
    " \n",
    "    GAN from \"https://arxiv.org/pdf/1406.2661.pdf\" (2014, I. J. Goodfellow et. al.)\n",
    "\n",
    "    Kernel-author: Jackson Kang @ Deep-learning Lab. (Handong Global University, S.Korea)\n",
    "\n",
    "    Author-email:  mskang@handong.edu\n",
    "\n",
    "    python and pytorch version: python=3.7, pytorch=1.5"
   ]
  },
  {
   "cell_type": "code",
   "execution_count": 1,
   "metadata": {},
   "outputs": [
    {
     "ename": "ModuleNotFoundError",
     "evalue": "No module named 'torch'",
     "output_type": "error",
     "traceback": [
      "\u001b[0;31m---------------------------------------------------------------------------\u001b[0m",
      "\u001b[0;31mModuleNotFoundError\u001b[0m                       Traceback (most recent call last)",
      "\u001b[0;32m<ipython-input-1-56f8059b8060>\u001b[0m in \u001b[0;36m<module>\u001b[0;34m\u001b[0m\n\u001b[0;32m----> 1\u001b[0;31m \u001b[0;32mimport\u001b[0m \u001b[0mtorch\u001b[0m\u001b[0;34m\u001b[0m\u001b[0;34m\u001b[0m\u001b[0m\n\u001b[0m\u001b[1;32m      2\u001b[0m \u001b[0;32mimport\u001b[0m \u001b[0mtorch\u001b[0m\u001b[0;34m.\u001b[0m\u001b[0mnn\u001b[0m \u001b[0;32mas\u001b[0m \u001b[0mnn\u001b[0m\u001b[0;34m\u001b[0m\u001b[0;34m\u001b[0m\u001b[0m\n\u001b[1;32m      3\u001b[0m \u001b[0;32mfrom\u001b[0m \u001b[0mtorch\u001b[0m\u001b[0;34m.\u001b[0m\u001b[0moptim\u001b[0m \u001b[0;32mimport\u001b[0m \u001b[0mAdam\u001b[0m\u001b[0;34m\u001b[0m\u001b[0;34m\u001b[0m\u001b[0m\n\u001b[1;32m      4\u001b[0m \u001b[0;34m\u001b[0m\u001b[0m\n\u001b[1;32m      5\u001b[0m \u001b[0;32mimport\u001b[0m \u001b[0mnumpy\u001b[0m \u001b[0;32mas\u001b[0m \u001b[0mnp\u001b[0m\u001b[0;34m\u001b[0m\u001b[0;34m\u001b[0m\u001b[0m\n",
      "\u001b[0;31mModuleNotFoundError\u001b[0m: No module named 'torch'"
     ]
    }
   ],
   "source": [
    "import torch\n",
    "import torch.nn as nn\n",
    "from torch.optim import Adam\n",
    "\n",
    "import numpy as np\n",
    "\n",
    "from tqdm import tqdm\n",
    "from torchvision.utils import save_image\n",
    "\n",
    "from torchvision.datasets import MNIST\n",
    "import torchvision.transforms as transforms\n",
    "from torch.utils.data import DataLoader\n",
    "from matplotlib.pyplot import imshow, imsave\n",
    "\n",
    "%matplotlib inline"
   ]
  },
  {
   "cell_type": "markdown",
   "metadata": {},
   "source": [
    "# Step 00. Hyperparameter Setting"
   ]
  },
  {
   "cell_type": "code",
   "execution_count": 49,
   "metadata": {},
   "outputs": [],
   "source": [
    "# Dataset Info.\n",
    "dataset_path = '~/datasets'\n",
    "kwargs = {'num_workers': 1, 'pin_memory': True} \n",
    "noise_dim=100\n",
    "sample_dim = 784\n",
    "num_class = 1\n",
    "\n",
    "# CUDA and GPU Info.\n",
    "cuda = True\n",
    "DEVICE = torch.device(\"cuda\" if cuda else \"cpu\")\n",
    "\n",
    "# Training info.\n",
    "batch_size = 50\n",
    "test_batch_size = 10\n",
    "lr = 0.0003\n",
    "epochs = 20\n",
    "discriminator_train_step = 1\n",
    "# Model hyperparameter Info."
   ]
  },
  {
   "cell_type": "markdown",
   "metadata": {},
   "source": [
    "# Step 01. Download Dataset"
   ]
  },
  {
   "cell_type": "code",
   "execution_count": 38,
   "metadata": {},
   "outputs": [],
   "source": [
    "mnist_transform = transforms.Compose([transforms.ToTensor(),\n",
    "                                transforms.Normalize(mean=[0.5],\n",
    "                                std=[0.5])]\n",
    ")\n",
    "train_dataset = MNIST(dataset_path, transform=mnist_transform, train=True, download=True)\n",
    "test_dataset  = MNIST(dataset_path, transform=mnist_transform, train=False, download=True)\n",
    "\n",
    "train_loader = DataLoader(dataset=train_dataset, batch_size=batch_size, shuffle=True, **kwargs)\n",
    "test_loader  = DataLoader(dataset=test_dataset,  batch_size=batch_size, shuffle=True,  **kwargs)"
   ]
  },
  {
   "cell_type": "markdown",
   "metadata": {},
   "source": [
    "# Step 02. Define Model"
   ]
  },
  {
   "cell_type": "code",
   "execution_count": 22,
   "metadata": {},
   "outputs": [],
   "source": [
    "# Simple MLP Generator\n",
    "\n",
    "class Generator(nn.Module):\n",
    "    \n",
    "    def __init__(self, input_dim, output_dim):\n",
    "        super(Generator, self).__init__()\n",
    "        \n",
    "        self.linears = nn.Sequential(\n",
    "        \n",
    "            nn.Linear(input_dim, 128),\n",
    "            nn.ReLU(),\n",
    "            nn.Linear(128, 256),\n",
    "            nn.BatchNorm1d(256),\n",
    "            nn.ReLU(),\n",
    "            nn.Linear(256, 512),\n",
    "            nn.BatchNorm1d(512),\n",
    "            nn.ReLU(),\n",
    "            nn.Linear(512, 1024),\n",
    "            nn.BatchNorm1d(1024),\n",
    "            nn.ReLU(),\n",
    "            nn.Linear(1024, output_dim),\n",
    "            nn.Tanh()\n",
    "        )\n",
    "\n",
    "    def forward(self, x):\n",
    "        y_ = x\n",
    "        return self.linears(y_)"
   ]
  },
  {
   "cell_type": "code",
   "execution_count": 23,
   "metadata": {},
   "outputs": [],
   "source": [
    "class Discriminator(nn.Module):\n",
    "    \n",
    "    def __init__(self, input_dim, output_dim):\n",
    "        super(Discriminator, self).__init__()\n",
    "        \n",
    "        self.linears = nn.Sequential(\n",
    "        \n",
    "            nn.Linear(input_dim, 512),\n",
    "            nn.ReLU(),\n",
    "            nn.Linear(512, 256),\n",
    "            nn.ReLU(),\n",
    "            nn.Linear(256, 128),\n",
    "            nn.ReLU(),\n",
    "            nn.Linear(128, output_dim),\n",
    "            nn.Sigmoid()\n",
    "        )\n",
    "\n",
    "    def forward(self, x):\n",
    "        y_ = x\n",
    "        return self.linears(y_)"
   ]
  },
  {
   "cell_type": "code",
   "execution_count": 39,
   "metadata": {},
   "outputs": [],
   "source": [
    "G = Generator(input_dim=noise_dim, output_dim=sample_dim).to(DEVICE)\n",
    "D = Discriminator(input_dim=sample_dim, output_dim=num_class).to(DEVICE)"
   ]
  },
  {
   "cell_type": "markdown",
   "metadata": {},
   "source": [
    "# Step 03. Define Loss function and optimizer"
   ]
  },
  {
   "cell_type": "code",
   "execution_count": 40,
   "metadata": {},
   "outputs": [],
   "source": [
    "criterion = nn.BCELoss()\n",
    "\n",
    "D_optim = torch.optim.Adam(D.parameters(), lr=lr, betas=(0.5, 0.999))\n",
    "G_optim = torch.optim.Adam(G.parameters(), lr=lr, betas=(0.5, 0.999))"
   ]
  },
  {
   "cell_type": "markdown",
   "metadata": {},
   "source": [
    "# Step 04. Train GAN"
   ]
  },
  {
   "cell_type": "code",
   "execution_count": 41,
   "metadata": {},
   "outputs": [],
   "source": [
    "def train_D(D, G, x, noise, D_labels, D_fakes):\n",
    "    x_fake = G(noise)\n",
    "    y_hat = D(x)\n",
    "    y_hat_fake = D(x_fake)\n",
    "    return criterion(y_hat, D_labels) + criterion(y_hat_fake, D_fakes)\n",
    "\n",
    "def train_G(D, G, D_labels, noise):\n",
    "    x_fake = G(noise)\n",
    "    return criterion(D(x_fake), D_labels)"
   ]
  },
  {
   "cell_type": "code",
   "execution_count": 52,
   "metadata": {
    "scrolled": false
   },
   "outputs": [
    {
     "name": "stdout",
     "output_type": "stream",
     "text": [
      "Start training GAN...\n",
      "\tEpoch 1 \tGenerator Loss:  0.030982694663635586 \tDiscriminator Loss:  0.018487665243602177\n",
      "\tEpoch 2 \tGenerator Loss:  0.03125954735567413 \tDiscriminator Loss:  0.018266579372073533\n",
      "\tEpoch 3 \tGenerator Loss:  0.03143953399522986 \tDiscriminator Loss:  0.01817019488833366\n",
      "\tEpoch 4 \tGenerator Loss:  0.03153482174256924 \tDiscriminator Loss:  0.018043554445621467\n",
      "\tEpoch 5 \tGenerator Loss:  0.031700502316886134 \tDiscriminator Loss:  0.01804935741663178\n",
      "\tEpoch 6 \tGenerator Loss:  0.03167452317660207 \tDiscriminator Loss:  0.017981478796092742\n",
      "\tEpoch 7 \tGenerator Loss:  0.03159525808242085 \tDiscriminator Loss:  0.017931645096491734\n",
      "\tEpoch 8 \tGenerator Loss:  0.03164736510516207 \tDiscriminator Loss:  0.017994976670071917\n",
      "\tEpoch 9 \tGenerator Loss:  0.03145401386144859 \tDiscriminator Loss:  0.018045853091041876\n",
      "\tEpoch 10 \tGenerator Loss:  0.031897415118579374 \tDiscriminator Loss:  0.017918044637897992\n",
      "\tEpoch 11 \tGenerator Loss:  0.032081038132620615 \tDiscriminator Loss:  0.017876201214842045\n",
      "\tEpoch 12 \tGenerator Loss:  0.031960937501590785 \tDiscriminator Loss:  0.017986907832715986\n",
      "\tEpoch 13 \tGenerator Loss:  0.031801209867348565 \tDiscriminator Loss:  0.018029403403165244\n",
      "\tEpoch 14 \tGenerator Loss:  0.032146598457594135 \tDiscriminator Loss:  0.01798464608749218\n",
      "\tEpoch 15 \tGenerator Loss:  0.032395427143504164 \tDiscriminator Loss:  0.017887666411356095\n",
      "\tEpoch 16 \tGenerator Loss:  0.03220026622920159 \tDiscriminator Loss:  0.017829354996478388\n",
      "\tEpoch 17 \tGenerator Loss:  0.032272179222186476 \tDiscriminator Loss:  0.01785977858121043\n",
      "\tEpoch 18 \tGenerator Loss:  0.03238345808143711 \tDiscriminator Loss:  0.017817653346002053\n",
      "\tEpoch 19 \tGenerator Loss:  0.03293543751981479 \tDiscriminator Loss:  0.01758679205820499\n",
      "\tEpoch 20 \tGenerator Loss:  0.032957119406810696 \tDiscriminator Loss:  0.017620024891870034\n",
      "Finish!!\n"
     ]
    }
   ],
   "source": [
    "print(\"Start training GAN...\")\n",
    "\n",
    "D_labels = torch.ones([batch_size, 1]).to(DEVICE) #  Discriminator Label to real\n",
    "D_fakes = torch.zeros([batch_size, 1]).to(DEVICE) # Discriminator Label to fake\n",
    "\n",
    "for epoch in range(epochs):\n",
    "    epoch_G_loss = 0\n",
    "    epoch_D_loss = 0\n",
    "    \n",
    "    for batch_idx, (x, label) in enumerate(train_loader):\n",
    "        x = x.view(batch_size, sample_dim)\n",
    "        \n",
    "        noise = torch.randn((batch_size, noise_dim)).to(DEVICE)\n",
    "        x = x.to(DEVICE)\n",
    "        \n",
    "        # Train Discriminator\n",
    "        G.eval()\n",
    "        D.train()\n",
    "        for _ in range(discriminator_train_step):\n",
    "            D_optim.zero_grad()\n",
    "            D_loss = train_D(D, G, x, noise, D_labels, D_fakes)\n",
    "            D_loss.backward()\n",
    "            D_optim.step()\n",
    "        \n",
    "        \n",
    "        # Train Generator\n",
    "        G.train()\n",
    "        D.eval()\n",
    "        G_optim.zero_grad()\n",
    "        G_loss = train_G(D, G, D_labels, noise)\n",
    "        G_loss.backward()\n",
    "        G_optim.step()\n",
    "        \n",
    "        epoch_G_loss += G_loss.item()\n",
    "        epoch_D_loss += D_loss.item()\n",
    "        \n",
    "    print(\"\\tEpoch\", epoch + 1, \"\\tGenerator Loss: \", epoch_G_loss / (batch_idx*batch_size), \"\\tDiscriminator Loss: \", epoch_D_loss / (batch_idx*batch_size))\n",
    "    \n",
    "print(\"Finish!!\")"
   ]
  },
  {
   "cell_type": "markdown",
   "metadata": {},
   "source": [
    "# Step 05. Generate image samples"
   ]
  },
  {
   "cell_type": "code",
   "execution_count": 53,
   "metadata": {},
   "outputs": [],
   "source": [
    "def get_sample_image(G, noise_dim=100):\n",
    "    \"\"\"\n",
    "        save sample 100 images\n",
    "    \"\"\"\n",
    "    img = np.zeros([280, 280])\n",
    "    for j in range(10):\n",
    "        z = torch.randn(test_batch_size, noise_dim).to(DEVICE)\n",
    "        x_hat = G(z).view(test_batch_size, 28, 28)\n",
    "        result = x_hat.cpu().data.numpy()\n",
    "        img[j*28:(j+1)*28] = np.concatenate([x for x in result], axis=-1)\n",
    "    return img"
   ]
  },
  {
   "cell_type": "code",
   "execution_count": 54,
   "metadata": {},
   "outputs": [
    {
     "data": {
      "text/plain": [
       "<matplotlib.image.AxesImage at 0x7f77ef58af50>"
      ]
     },
     "execution_count": 54,
     "metadata": {},
     "output_type": "execute_result"
    },
    {
     "data": {
      "image/png": "[encoded data removed]",
      "text/plain": [
       "<Figure size 432x288 with 1 Axes>"
      ]
     },
     "metadata": {
      "needs_background": "light"
     },
     "output_type": "display_data"
    }
   ],
   "source": [
    "G.eval()\n",
    "imshow(get_sample_image(G, noise_dim=noise_dim), cmap='gray')"
   ]
  },
  {
   "cell_type": "code",
   "execution_count": null,
   "metadata": {},
   "outputs": [],
   "source": []
  },
  {
   "cell_type": "code",
   "execution_count": null,
   "metadata": {},
   "outputs": [],
   "source": []
  }
 ],
 "metadata": {
  "kernelspec": {
   "display_name": "Python 3",
   "language": "python",
   "name": "python3"
  },
  "language_info": {
   "codemirror_mode": {
    "name": "ipython",
    "version": 3
   },
   "file_extension": ".py",
   "mimetype": "text/x-python",
   "name": "python",
   "nbconvert_exporter": "python",
   "pygments_lexer": "ipython3",
   "version": "3.7.9"
  }
 },
 "nbformat": 4,
 "nbformat_minor": 4
}
