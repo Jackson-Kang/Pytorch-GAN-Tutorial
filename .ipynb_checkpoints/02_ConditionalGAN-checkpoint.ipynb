{
 "cells": [
  {
   "cell_type": "markdown",
   "metadata": {},
   "source": [
    "# 02 - Implementation of ConditionalGAN (CGAN)\n",
    " \n",
    " \n",
    "    Conditional GAN from \"https://arxiv.org/pdf/1406.2661.pdf\" (2014, I. J. Goodfellow et. al.)\n",
    "\n",
    "    Kernel-author: Jackson Kang @ Deep-learning Lab. (Handong Global University, S.Korea)\n",
    "\n",
    "    Author-email:  mskang@handong.edu\n",
    "\n",
    "    python and pytorch version: python=3.7, pytorch=1.6"
   ]
  },
  {
   "cell_type": "code",
   "execution_count": 1,
   "metadata": {},
   "outputs": [],
   "source": [
    "import torch\n",
    "import torch.nn as nn\n",
    "from torch.optim import Adam\n",
    "\n",
    "import numpy as np\n",
    "\n",
    "from tqdm import tqdm\n",
    "from torchvision.utils import save_image\n",
    "\n",
    "from torchvision.datasets import MNIST\n",
    "import torchvision.transforms as transforms\n",
    "from torch.utils.data import DataLoader\n",
    "from matplotlib.pyplot import imshow, imsave\n",
    "\n",
    "%matplotlib inline"
   ]
  },
  {
   "cell_type": "markdown",
   "metadata": {},
   "source": [
    "# Step 00. Hyperparameter Setting"
   ]
  },
  {
   "cell_type": "code",
   "execution_count": 2,
   "metadata": {},
   "outputs": [],
   "source": [
    "# Dataset Info.\n",
    "dataset_path = '~/datasets'\n",
    "kwargs = {'num_workers': 1, 'pin_memory': True} \n",
    "noise_dim=100\n",
    "sample_dim = 784\n",
    "num_class = 1\n",
    "\n",
    "# CUDA and GPU Info.\n",
    "cuda = True\n",
    "DEVICE = torch.device(\"cuda\" if cuda else \"cpu\")\n",
    "\n",
    "# Training info.\n",
    "batch_size = 50\n",
    "test_batch_size = 10\n",
    "lr = 0.0001\n",
    "epochs = 30\n",
    "discriminator_train_step = 1\n",
    "# Model hyperparameter Info."
   ]
  },
  {
   "cell_type": "markdown",
   "metadata": {},
   "source": [
    "# Step 01. Download Dataset"
   ]
  },
  {
   "cell_type": "code",
   "execution_count": 3,
   "metadata": {},
   "outputs": [],
   "source": [
    "mnist_transform = transforms.Compose([transforms.ToTensor(),\n",
    "                                transforms.Normalize(mean=[0.5],\n",
    "                                std=[0.5])]\n",
    ")\n",
    "train_dataset = MNIST(dataset_path, transform=mnist_transform, train=True, download=True)\n",
    "test_dataset  = MNIST(dataset_path, transform=mnist_transform, train=False, download=True)\n",
    "\n",
    "train_loader = DataLoader(dataset=train_dataset, batch_size=batch_size, shuffle=True, **kwargs)\n",
    "test_loader  = DataLoader(dataset=test_dataset,  batch_size=batch_size, shuffle=True,  **kwargs)"
   ]
  },
  {
   "cell_type": "markdown",
   "metadata": {},
   "source": [
    "# Step 02. Define Model"
   ]
  },
  {
   "cell_type": "code",
   "execution_count": 4,
   "metadata": {},
   "outputs": [],
   "source": [
    "# Simple MLP Generator\n",
    "\n",
    "class Generator(nn.Module):\n",
    "    \n",
    "    def __init__(self, input_dim, output_dim):\n",
    "        super(Generator, self).__init__()\n",
    "        \n",
    "        self.linears = nn.Sequential(\n",
    "        \n",
    "            nn.Linear(input_dim, 128),\n",
    "            nn.ReLU(),\n",
    "            nn.Linear(128, 256),\n",
    "            nn.BatchNorm1d(256),\n",
    "            nn.ReLU(),\n",
    "            nn.Linear(256, 512),\n",
    "            nn.BatchNorm1d(512),\n",
    "            nn.ReLU(),\n",
    "            nn.Linear(512, 1024),\n",
    "            nn.BatchNorm1d(1024),\n",
    "            nn.ReLU(),\n",
    "            nn.Linear(1024, output_dim),\n",
    "            nn.Tanh()\n",
    "        )\n",
    "\n",
    "    def forward(self, x):\n",
    "        y_ = x\n",
    "        return self.linears(y_)"
   ]
  },
  {
   "cell_type": "code",
   "execution_count": 5,
   "metadata": {},
   "outputs": [],
   "source": [
    "class Discriminator(nn.Module):\n",
    "    \n",
    "    def __init__(self, input_dim, output_dim):\n",
    "        super(Discriminator, self).__init__()\n",
    "        \n",
    "        self.linears = nn.Sequential(\n",
    "        \n",
    "            nn.Linear(input_dim, 512),\n",
    "            nn.ReLU(),\n",
    "            nn.Linear(512, 256),\n",
    "            nn.ReLU(),\n",
    "            nn.Linear(256, 128),\n",
    "            nn.ReLU(),\n",
    "            nn.Linear(128, output_dim),\n",
    "            nn.Sigmoid()\n",
    "        )\n",
    "\n",
    "    def forward(self, x):\n",
    "        y_ = x\n",
    "        return self.linears(y_)"
   ]
  },
  {
   "cell_type": "code",
   "execution_count": 6,
   "metadata": {},
   "outputs": [],
   "source": [
    "G = Generator(input_dim=noise_dim, output_dim=sample_dim).to(DEVICE)\n",
    "D = Discriminator(input_dim=sample_dim, output_dim=num_class).to(DEVICE)"
   ]
  },
  {
   "cell_type": "markdown",
   "metadata": {},
   "source": [
    "# Step 03. Define Loss function and optimizer"
   ]
  },
  {
   "cell_type": "code",
   "execution_count": 7,
   "metadata": {},
   "outputs": [],
   "source": [
    "criterion = nn.BCELoss()\n",
    "\n",
    "D_optim = torch.optim.Adam(D.parameters(), lr=lr, betas=(0.5, 0.999))\n",
    "G_optim = torch.optim.Adam(G.parameters(), lr=lr, betas=(0.5, 0.999))"
   ]
  },
  {
   "cell_type": "markdown",
   "metadata": {},
   "source": [
    "# Step 04. Train GAN"
   ]
  },
  {
   "cell_type": "code",
   "execution_count": 8,
   "metadata": {},
   "outputs": [],
   "source": [
    "def train_D(D, G, x, noise, D_labels, D_fakes):\n",
    "    x_fake = G(noise)\n",
    "    y_hat = D(x)\n",
    "    y_hat_fake = D(x_fake)\n",
    "    return criterion(y_hat, D_labels) + criterion(y_hat_fake, D_fakes)\n",
    "\n",
    "def train_G(D, G, D_labels, noise):\n",
    "    x_fake = G(noise)\n",
    "    return criterion(D(x_fake), D_labels)"
   ]
  },
  {
   "cell_type": "code",
   "execution_count": null,
   "metadata": {
    "scrolled": false
   },
   "outputs": [
    {
     "name": "stdout",
     "output_type": "stream",
     "text": [
      "Start training GAN...\n",
      "\tEpoch 1 \tGenerator Loss:  0.024669961097143013 \tDiscriminator Loss:  0.02126563072005742\n"
     ]
    }
   ],
   "source": [
    "print(\"Start training GAN...\")\n",
    "\n",
    "D_labels = torch.ones([batch_size, 1]).to(DEVICE) #  Discriminator Label to real\n",
    "D_fakes = torch.zeros([batch_size, 1]).to(DEVICE) # Discriminator Label to fake\n",
    "\n",
    "for epoch in range(epochs):\n",
    "    epoch_G_loss = 0\n",
    "    epoch_D_loss = 0\n",
    "    \n",
    "    for batch_idx, (x, label) in enumerate(train_loader):\n",
    "        x = x.view(batch_size, sample_dim)\n",
    "        \n",
    "        noise = torch.randn((batch_size, noise_dim)).to(DEVICE)\n",
    "        x = x.to(DEVICE)\n",
    "        \n",
    "        # Train Discriminator\n",
    "        G.eval()\n",
    "        D.train()\n",
    "        for _ in range(discriminator_train_step):\n",
    "            D_optim.zero_grad()\n",
    "            D_loss = train_D(D, G, x, noise, D_labels, D_fakes)\n",
    "            D_loss.backward()\n",
    "            D_optim.step()\n",
    "        \n",
    "        \n",
    "        # Train Generator\n",
    "        G.train()\n",
    "        D.eval()\n",
    "        G_optim.zero_grad()\n",
    "        G_loss = train_G(D, G, D_labels, noise)\n",
    "        G_loss.backward()\n",
    "        G_optim.step()\n",
    "        \n",
    "        epoch_G_loss += G_loss.item()\n",
    "        epoch_D_loss += D_loss.item()\n",
    "        \n",
    "    print(\"\\tEpoch\", epoch + 1, \"\\tGenerator Loss: \", epoch_G_loss / (batch_idx*batch_size), \"\\tDiscriminator Loss: \", epoch_D_loss / (batch_idx*batch_size))\n",
    "    \n",
    "print(\"Finish!!\")"
   ]
  },
  {
   "cell_type": "markdown",
   "metadata": {},
   "source": [
    "# Step 05. Generate image samples"
   ]
  },
  {
   "cell_type": "code",
   "execution_count": null,
   "metadata": {},
   "outputs": [],
   "source": [
    "def get_sample_image(G, noise_dim=100):\n",
    "    \"\"\"\n",
    "        save sample 100 images\n",
    "    \"\"\"\n",
    "    img = np.zeros([280, 280])\n",
    "    for j in range(10):\n",
    "        z = torch.randn(test_batch_size, noise_dim).to(DEVICE)\n",
    "        x_hat = G(z).view(test_batch_size, 28, 28)\n",
    "        result = x_hat.cpu().data.numpy()\n",
    "        img[j*28:(j+1)*28] = np.concatenate([x for x in result], axis=-1)\n",
    "    return img"
   ]
  },
  {
   "cell_type": "code",
   "execution_count": null,
   "metadata": {},
   "outputs": [],
   "source": [
    "G.eval()\n",
    "imshow(get_sample_image(G, noise_dim=noise_dim), cmap='gray')"
   ]
  }
 ],
 "metadata": {
  "kernelspec": {
   "display_name": "Python 3",
   "language": "python",
   "name": "python3"
  },
  "language_info": {
   "codemirror_mode": {
    "name": "ipython",
    "version": 3
   },
   "file_extension": ".py",
   "mimetype": "text/x-python",
   "name": "python",
   "nbconvert_exporter": "python",
   "pygments_lexer": "ipython3",
   "version": "3.7.9"
  }
 },
 "nbformat": 4,
 "nbformat_minor": 4
}
